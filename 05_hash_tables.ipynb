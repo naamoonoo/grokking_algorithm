{
 "cells": [
  {
   "cell_type": "code",
   "execution_count": 4,
   "metadata": {},
   "outputs": [],
   "source": [
    "import random\n",
    "from collections import deque"
   ]
  },
  {
   "cell_type": "code",
   "execution_count": 83,
   "metadata": {},
   "outputs": [],
   "source": [
    "graph = {}\n",
    "graph[\"you\"] = [\"bob\", \"alice\", \"clarie\"]\n",
    "graph[\"bob\"] = [\"anuj\", \"peggy\"]\n",
    "graph[\"alice\"] = [\"peggy\"]\n",
    "graph[\"clarie\"] = [\"thom\", \"jonny\"]\n",
    "graph[\"anuj\"] = []\n",
    "graph[\"peggy\"] = []\n",
    "graph[\"thom\"] = []\n",
    "graph[\"jonny\"] = []"
   ]
  },
  {
   "cell_type": "code",
   "execution_count": 86,
   "metadata": {},
   "outputs": [],
   "source": [
    "def perslon_is_seller(name):\n",
    "    return name[-1] == 'm'"
   ]
  },
  {
   "cell_type": "code",
   "execution_count": 97,
   "metadata": {
    "scrolled": false
   },
   "outputs": [
    {
     "data": {
      "text/plain": [
       "deque(['bob', 'alice', 'clarie'])"
      ]
     },
     "execution_count": 97,
     "metadata": {},
     "output_type": "execute_result"
    }
   ],
   "source": [
    "search_queue = deque()\n",
    "search_queue += graph[\"you\"]\n",
    "search_queue"
   ]
  },
  {
   "cell_type": "code",
   "execution_count": 98,
   "metadata": {},
   "outputs": [
    {
     "name": "stdout",
     "output_type": "stream",
     "text": [
      "deque(['alice', 'clarie'])\n",
      "[]\n",
      "deque(['clarie', 'anuj', 'peggy'])\n",
      "['bob']\n",
      "deque(['anuj', 'peggy', 'peggy'])\n",
      "['bob', 'alice']\n",
      "deque(['peggy', 'peggy', 'thom', 'jonny'])\n",
      "['bob', 'alice', 'clarie']\n",
      "deque(['peggy', 'thom', 'jonny'])\n",
      "['bob', 'alice', 'clarie', 'anuj']\n",
      "deque(['thom', 'jonny'])\n",
      "['bob', 'alice', 'clarie', 'anuj', 'peggy']\n",
      "deque(['jonny'])\n",
      "['bob', 'alice', 'clarie', 'anuj', 'peggy']\n",
      "thom is mango seller\n"
     ]
    }
   ],
   "source": [
    "checked = []\n",
    "while search_queue:\n",
    "    person = search_queue.popleft()\n",
    "    print(search_queue)\n",
    "    print(checked)\n",
    "    if person not in checked:\n",
    "        if perslon_is_seller(person):\n",
    "            print(\"%s is mango seller\" % person)\n",
    "            break\n",
    "        else:\n",
    "            search_queue += graph[person]\n",
    "            checked.append(person)\n",
    "        \n",
    "if not search_queue:\n",
    "    print(\"mango seller not existed\")\n"
   ]
  },
  {
   "cell_type": "code",
   "execution_count": null,
   "metadata": {},
   "outputs": [],
   "source": []
  },
  {
   "cell_type": "code",
   "execution_count": null,
   "metadata": {},
   "outputs": [],
   "source": []
  },
  {
   "cell_type": "code",
   "execution_count": null,
   "metadata": {},
   "outputs": [],
   "source": []
  },
  {
   "cell_type": "code",
   "execution_count": null,
   "metadata": {},
   "outputs": [],
   "source": [
    "  "
   ]
  }
 ],
 "metadata": {
  "kernelspec": {
   "display_name": "Python 3",
   "language": "python",
   "name": "python3"
  },
  "language_info": {
   "codemirror_mode": {
    "name": "ipython",
    "version": 3
   },
   "file_extension": ".py",
   "mimetype": "text/x-python",
   "name": "python",
   "nbconvert_exporter": "python",
   "pygments_lexer": "ipython3",
   "version": "3.7.3"
  }
 },
 "nbformat": 4,
 "nbformat_minor": 2
}
